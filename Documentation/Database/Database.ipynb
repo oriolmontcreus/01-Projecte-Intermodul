{
 "cells": [
  {
   "cell_type": "markdown",
   "metadata": {},
   "source": [
    "## Database `surveyDB` queries"
   ]
  },
  {
   "cell_type": "markdown",
   "metadata": {},
   "source": [
    "The tables have to be created in order! From top to bottom. ⬇️"
   ]
  },
  {
   "cell_type": "markdown",
   "metadata": {},
   "source": [
    "Table `surveyor`"
   ]
  },
  {
   "cell_type": "code",
   "execution_count": null,
   "metadata": {
    "vscode": {
     "languageId": "sql"
    }
   },
   "outputs": [],
   "source": [
    "CREATE TABLE surveyor (\n",
    "    id SERIAL PRIMARY KEY,\n",
    "    name TEXT,\n",
    "    city TEXT,\n",
    "    password TEXT\n",
    ");"
   ]
  },
  {
   "cell_type": "code",
   "execution_count": null,
   "metadata": {
    "vscode": {
     "languageId": "sql"
    }
   },
   "outputs": [],
   "source": [
    "INSERT INTO surveyor (name, city, password)\n",
    "VALUES \n",
    "('John Doe', 'New York', 'password1'),\n",
    "('Jane Smith', 'Los Angeles', 'password2'),\n",
    "('Bob Johnson', 'Chicago', 'password3');"
   ]
  },
  {
   "cell_type": "markdown",
   "metadata": {},
   "source": [
    "Table `survey`"
   ]
  },
  {
   "cell_type": "code",
   "execution_count": null,
   "metadata": {
    "vscode": {
     "languageId": "sql"
    }
   },
   "outputs": [],
   "source": [
    "CREATE TABLE survey (\n",
    "    id SERIAL PRIMARY KEY,\n",
    "    descr TEXT,\n",
    "    startDate TIMESTAMP,\n",
    "    endDate TIMESTAMP,\n",
    "    idSurveyor INT,\n",
    "    FOREIGN KEY (idSurveyor) REFERENCES surveyor(id)\n",
    ");"
   ]
  },
  {
   "cell_type": "code",
   "execution_count": null,
   "metadata": {
    "vscode": {
     "languageId": "sql"
    }
   },
   "outputs": [],
   "source": [
    "INSERT INTO survey (descr, startDate, endDate, idSurveyor)\n",
    "VALUES \n",
    "('Survey 1', '2022-01-01 00:00:00', '2022-01-31 23:59:59', 1),\n",
    "('Survey 2', '2022-02-01 00:00:00', '2022-02-28 23:59:59', 2),\n",
    "('Survey 3', '2022-03-01 00:00:00', '2022-03-31 23:59:59', 3);"
   ]
  },
  {
   "cell_type": "markdown",
   "metadata": {},
   "source": [
    "Table `questiontype`"
   ]
  },
  {
   "cell_type": "code",
   "execution_count": null,
   "metadata": {
    "vscode": {
     "languageId": "sql"
    }
   },
   "outputs": [],
   "source": [
    "CREATE TABLE questiontype (\n",
    "    id SERIAL PRIMARY KEY,\n",
    "    descr TEXT\n",
    ");"
   ]
  },
  {
   "cell_type": "code",
   "execution_count": null,
   "metadata": {
    "vscode": {
     "languageId": "sql"
    }
   },
   "outputs": [],
   "source": [
    "INSERT INTO questiontype (descr)\n",
    "VALUES \n",
    "('Text')\n",
    "('True or False'),\n",
    "('Slider'),\n",
    "('Selection');"
   ]
  },
  {
   "cell_type": "markdown",
   "metadata": {},
   "source": [
    "Table `question`"
   ]
  },
  {
   "cell_type": "code",
   "execution_count": null,
   "metadata": {
    "vscode": {
     "languageId": "sql"
    }
   },
   "outputs": [],
   "source": [
    "CREATE TABLE question (\n",
    "    id SERIAL PRIMARY KEY,\n",
    "    question TEXT,\n",
    "    idQuestionType INT,\n",
    "    idSurvey INT,\n",
    "    FOREIGN KEY (idQuestionType) REFERENCES questiontype(id),\n",
    "    FOREIGN KEY (idSurvey) REFERENCES survey(id)\n",
    ");"
   ]
  },
  {
   "cell_type": "code",
   "execution_count": null,
   "metadata": {
    "vscode": {
     "languageId": "sql"
    }
   },
   "outputs": [],
   "source": [
    "INSERT INTO question (question, idQuestionType, idSurvey)\n",
    "VALUES \n",
    "('What is your favorite color?', 1, 1), --questiontype text\n",
    "('Do you like programming?', 2, 1), --questiontype true/false\n",
    "('From what range are you willing to pay?', 3, 2); --questiontype slider\n",
    "('In what platforms do you play videogames?', 4, 2); --questiontype selection"
   ]
  },
  {
   "cell_type": "markdown",
   "metadata": {},
   "source": [
    "Table `answer`"
   ]
  },
  {
   "cell_type": "code",
   "execution_count": null,
   "metadata": {
    "vscode": {
     "languageId": "sql"
    }
   },
   "outputs": [],
   "source": [
    "CREATE TABLE answer (\n",
    "    id SERIAL PRIMARY KEY,\n",
    "    answer TEXT,\n",
    "    answeredDate TIMESTAMP,\n",
    "    questionId INT,\n",
    "    FOREIGN KEY (questionId) REFERENCES question(id)\n",
    ");"
   ]
  },
  {
   "cell_type": "code",
   "execution_count": null,
   "metadata": {
    "vscode": {
     "languageId": "sql"
    }
   },
   "outputs": [],
   "source": [
    "INSERT INTO answer (answer, answeredDate, questionId)\n",
    "VALUES \n",
    "('Blue', '2022-01-01 00:00:00', 1), --questiontype text\n",
    "('True', '2022-02-01 00:00:00', 2), --questiontype true/false\n",
    "('100;200', '2022-03-01 00:00:00', 3); --questiontype slider\n",
    "('PC;Xbox', '2022-04-01 00:00:00', 4); --questiontype selection"
   ]
  }
 ],
 "metadata": {
  "kernelspec": {
   "display_name": "Python 3",
   "language": "python",
   "name": "python3"
  },
  "language_info": {
   "codemirror_mode": {
    "name": "ipython",
    "version": 3
   },
   "file_extension": ".py",
   "mimetype": "text/x-python",
   "name": "python",
   "nbconvert_exporter": "python",
   "pygments_lexer": "ipython3",
   "version": "3.11.7"
  },
  "orig_nbformat": 4
 },
 "nbformat": 4,
 "nbformat_minor": 2
}
