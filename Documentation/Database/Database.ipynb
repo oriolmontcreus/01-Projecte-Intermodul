{
 "cells": [
  {
   "cell_type": "markdown",
   "metadata": {},
   "source": [
    "## Database `surveyDB` queries"
   ]
  },
  {
   "cell_type": "markdown",
   "metadata": {},
   "source": [
    "The tables have to be created in order! From top to bottom. ⬇️"
   ]
  },
  {
   "cell_type": "markdown",
   "metadata": {},
   "source": [
    "Table `surveyor`"
   ]
  },
  {
   "cell_type": "code",
   "execution_count": null,
   "metadata": {
    "vscode": {
     "languageId": "sql"
    }
   },
   "outputs": [],
   "source": [
    "CREATE TABLE surveyor (\n",
    "    id SERIAL PRIMARY KEY,\n",
    "    name TEXT,\n",
    "    city TEXT,\n",
    "    password TEXT\n",
    ");"
   ]
  },
  {
   "cell_type": "code",
   "execution_count": null,
   "metadata": {
    "vscode": {
     "languageId": "sql"
    }
   },
   "outputs": [],
   "source": [
    "INSERT INTO surveyor (name, city, password)\n",
    "VALUES \n",
    "('John Doe', 'New York', 'password1'),\n",
    "('Jane Smith', 'Los Angeles', 'password2'),\n",
    "('Bob Johnson', 'Chicago', 'password3');"
   ]
  },
  {
   "cell_type": "markdown",
   "metadata": {},
   "source": [
    "Table `survey`"
   ]
  },
  {
   "cell_type": "code",
   "execution_count": null,
   "metadata": {
    "vscode": {
     "languageId": "sql"
    }
   },
   "outputs": [],
   "source": [
    "CREATE TABLE survey (\n",
    "    id SERIAL PRIMARY KEY,\n",
    "    descr TEXT,\n",
    "    startDate TIMESTAMP,\n",
    "    endDate TIMESTAMP\n",
    ");"
   ]
  },
  {
   "cell_type": "code",
   "execution_count": null,
   "metadata": {
    "vscode": {
     "languageId": "sql"
    }
   },
   "outputs": [],
   "source": [
    "INSERT INTO survey (descr, startDate, endDate)\n",
    "VALUES \n",
    "('Survey 1', '2022-01-01 00:00:00', '2022-01-31 23:59:59'),\n",
    "('Survey 2', '2022-02-01 00:00:00', '2022-02-28 23:59:59'),\n",
    "('Survey 3', '2022-03-01 00:00:00', '2022-03-31 23:59:59');"
   ]
  },
  {
   "cell_type": "markdown",
   "metadata": {},
   "source": [
    "Table `questiontype`"
   ]
  },
  {
   "cell_type": "code",
   "execution_count": null,
   "metadata": {
    "vscode": {
     "languageId": "sql"
    }
   },
   "outputs": [],
   "source": [
    "CREATE TABLE questiontype (\n",
    "    id SERIAL PRIMARY KEY,\n",
    "    typeName TEXT\n",
    ");"
   ]
  },
  {
   "cell_type": "code",
   "execution_count": null,
   "metadata": {
    "vscode": {
     "languageId": "sql"
    }
   },
   "outputs": [],
   "source": [
    "INSERT INTO questiontype (typeName)\n",
    "VALUES \n",
    "('Text')\n",
    "('True or False'),\n",
    "('Slider'),\n",
    "('Selection');"
   ]
  },
  {
   "cell_type": "markdown",
   "metadata": {},
   "source": [
    "Table `question`"
   ]
  },
  {
   "cell_type": "code",
   "execution_count": null,
   "metadata": {
    "vscode": {
     "languageId": "sql"
    }
   },
   "outputs": [],
   "source": [
    "CREATE TABLE question (\n",
    "    id SERIAL PRIMARY KEY,\n",
    "    question TEXT,\n",
    "    idQuestionType INT,\n",
    "    FOREIGN KEY (idQuestionType) REFERENCES questiontype(id)\n",
    ");"
   ]
  },
  {
   "cell_type": "code",
   "execution_count": null,
   "metadata": {
    "vscode": {
     "languageId": "sql"
    }
   },
   "outputs": [],
   "source": [
    "INSERT INTO question (question, idQuestionType)\n",
    "VALUES \n",
    "('What is your favorite color?', 1), --questiontype text\n",
    "('Do you like programming?', 2), --questiontype true/false\n",
    "('From what range are you willing to pay?', 3); --questiontype slider\n",
    "('In what platforms do you play videogames?', 4); --questiontype selection"
   ]
  },
  {
   "cell_type": "markdown",
   "metadata": {},
   "source": [
    "Table `answer`"
   ]
  },
  {
   "cell_type": "code",
   "execution_count": null,
   "metadata": {
    "vscode": {
     "languageId": "sql"
    }
   },
   "outputs": [],
   "source": [
    "CREATE TABLE answer (\n",
    "    id SERIAL PRIMARY KEY,\n",
    "    answer TEXT,\n",
    "    answeredDate TIMESTAMP,\n",
    "    idQuestion INT,\n",
    "    FOREIGN KEY (idQuestion) REFERENCES question(id)\n",
    ");"
   ]
  },
  {
   "cell_type": "code",
   "execution_count": null,
   "metadata": {
    "vscode": {
     "languageId": "sql"
    }
   },
   "outputs": [],
   "source": [
    "INSERT INTO answer (answer, answeredDate, idQuestion)\n",
    "VALUES \n",
    "('Blue', '2022-01-01 00:00:00', 1),\n",
    "('True', '2022-02-01 00:00:00', 2),\n",
    "('100;200', '2022-03-01 00:00:00', 3),\n",
    "('PC;Xbox', '2022-04-01 00:00:00', 4)"
   ]
  },
  {
   "cell_type": "markdown",
   "metadata": {},
   "source": [
    "Table `questiontype_option`"
   ]
  },
  {
   "cell_type": "code",
   "execution_count": null,
   "metadata": {
    "vscode": {
     "languageId": "sql"
    }
   },
   "outputs": [],
   "source": [
    "CREATE TABLE questiontype_option (\n",
    "    id SERIAL PRIMARY KEY,\n",
    "    idQuestion INT,\n",
    "    descr TEXT,\n",
    "    FOREIGN KEY (idQuestion) REFERENCES QUESTION(id)\n",
    ");"
   ]
  },
  {
   "cell_type": "code",
   "execution_count": null,
   "metadata": {
    "vscode": {
     "languageId": "sql"
    }
   },
   "outputs": [],
   "source": [
    "INSERT INTO questiontype_option (idQuestion, idAnswer, descr)\n",
    "VALUES (1, 1, 'Xbox'),\n",
    "(1, 2, 'Playstation'),\n",
    "(1, 3, 'PC'),\n",
    "(1, 4, 'Nintendo'),\n",
    "(2, 1, 'Yes'),\n",
    "(2, 2, 'No'),\n",
    "(4, 1, 'PC'),\n",
    "(4, 2, 'Xbox'),\n",
    "(4, 3, 'Playstation'),\n",
    "(4, 4, 'Nintendo');"
   ]
  },
  {
   "cell_type": "markdown",
   "metadata": {},
   "source": [
    "Table `survey_surveyor`"
   ]
  },
  {
   "cell_type": "code",
   "execution_count": null,
   "metadata": {
    "vscode": {
     "languageId": "sql"
    }
   },
   "outputs": [],
   "source": [
    "CREATE TABLE survey_surveyor (\n",
    "    idSurvey INT,\n",
    "    idSurveyor INT,\n",
    "    PRIMARY KEY (idSurvey, idSurveyor),\n",
    "    FOREIGN KEY (idSurvey) REFERENCES SURVEY(id),\n",
    "    FOREIGN KEY (idSurveyor) REFERENCES SURVEYOR(id)\n",
    ");"
   ]
  },
  {
   "cell_type": "markdown",
   "metadata": {},
   "source": [
    "Table `survey_question`"
   ]
  },
  {
   "cell_type": "code",
   "execution_count": null,
   "metadata": {
    "vscode": {
     "languageId": "sql"
    }
   },
   "outputs": [],
   "source": [
    "CREATE TABLE survey_question (\n",
    "    idSurvey INT,\n",
    "    idQuestion INT,\n",
    "    PRIMARY KEY (idSurvey, idQuestion),\n",
    "    FOREIGN KEY (idSurvey) REFERENCES SURVEY(idSurvey),\n",
    "    FOREIGN KEY (idQuestion) REFERENCES QUESTION(idQuestion)\n",
    ");"
   ]
  }
 ],
 "metadata": {
  "kernelspec": {
   "display_name": "Python 3 (ipykernel)",
   "language": "python",
   "name": "python3"
  },
  "language_info": {
   "codemirror_mode": {
    "name": "ipython",
    "version": 3
   },
   "file_extension": ".py",
   "mimetype": "text/x-python",
   "name": "python",
   "nbconvert_exporter": "python",
   "pygments_lexer": "ipython3",
   "version": "3.11.8"
  }
 },
 "nbformat": 4,
 "nbformat_minor": 4
}
