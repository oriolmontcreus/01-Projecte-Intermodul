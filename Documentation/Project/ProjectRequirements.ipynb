{
 "cells": [
  {
   "cell_type": "markdown",
   "metadata": {},
   "source": [
    "# **Project** `VistaQs` **requirements overview**\n",
    "Brief overview of the project requirements."
   ]
  },
  {
   "cell_type": "markdown",
   "metadata": {},
   "source": [
    "### Docker environment\n",
    "\n",
    "This project requires setting up a Laravel application in a Docker environment. The Docker environment will consist of three containers:\n",
    "\n",
    "`Backend Container`  \n",
    "This container will host the Laravel application, serving as the **backend** for our project.\n",
    "\n",
    "`Frontend Container`  \n",
    "This container will host the frontend of our application. It will interact with the backend container to fetch and display data.\n",
    "\n",
    "`Database Container`  \n",
    "This container will host the database for our application. It will interact with the backend container to store and retrieve data.\n",
    "##\n",
    "---"
   ]
  },
  {
   "cell_type": "markdown",
   "metadata": {},
   "source": [
    "### Laravel Installation\n",
    "\n",
    "Laravel and its dependencies will be installed in the backend container. This will allow the Laravel application to run in an isolated environment, ensuring that it has all the **necessary dependencies** without affecting the host system.\n",
    "\n",
    "###\n",
    "---"
   ]
  },
  {
   "cell_type": "markdown",
   "metadata": {},
   "source": [
    "### Docker Network Configuration\n",
    "\n",
    "All three containers will be configured to use the same network interface. This will allow them to **interact with each other**, as they will be able to see each other and communicate. This is crucial for the functioning of the application, as the frontend needs to fetch data from the backend, and the backend needs to store and retrieve data from the database.\n",
    "\n",
    "###\n",
    "---"
   ]
  },
  {
   "cell_type": "markdown",
   "metadata": {},
   "source": [
    "### Running the Project\n",
    "\n",
    "To run the project, we will use `docker-compose up` to bring up all three containers simultaneously. The network interface configurations will be specified in the Docker Compose file.\n",
    "\n",
    "```bash\n",
    "docker-compose up\n",
    "```\n",
    "\n",
    "###\n",
    "---"
   ]
  },
  {
   "cell_type": "markdown",
   "metadata": {},
   "source": [
    "# Docker Containers Configuration\n",
    "This section outlines the detailed instructions for setting up each Docker container for the project.\n",
    "\n",
    "### Backend"
   ]
  },
  {
   "cell_type": "code",
   "execution_count": null,
   "metadata": {
    "vscode": {
     "languageId": "shellscript"
    }
   },
   "outputs": [],
   "source": [
    "#!/bin/bash\n",
    "\n",
    "# Pull the latest Laravel Docker image\n",
    "docker pull laravelphp\n",
    "\n",
    "# Create a new Docker container for the backend\n",
    "docker run -d --name vistaqs_backend -p 8000:80 laravelphp\n",
    "\n",
    "# Verify that the container is running\n",
    "docker ps -a"
   ]
  },
  {
   "cell_type": "markdown",
   "metadata": {},
   "source": [
    "### Frontend"
   ]
  },
  {
   "cell_type": "code",
   "execution_count": null,
   "metadata": {
    "vscode": {
     "languageId": "shellscript"
    }
   },
   "outputs": [],
   "source": [
    "#!/bin/bash\n",
    "\n",
    "# Pull the latest Nginx Docker image\n",
    "docker pull nginx\n",
    "\n",
    "# Create a new Docker container for the frontend\n",
    "docker run -d --name vistaqs_frontend -p 8080:80 nginx\n",
    "\n",
    "# Verify that the container is running\n",
    "docker ps -a"
   ]
  },
  {
   "cell_type": "markdown",
   "metadata": {},
   "source": [
    "### Database"
   ]
  },
  {
   "cell_type": "code",
   "execution_count": null,
   "metadata": {
    "vscode": {
     "languageId": "shellscript"
    }
   },
   "outputs": [],
   "source": [
    "#!/bin/bash\n",
    "\n",
    "# Pull the latest MySQL Docker image\n",
    "docker pull mysql\n",
    "\n",
    "# Create a new Docker container for the database\n",
    "docker run -d --name vistaqs_database -e MYSQL_ROOT_PASSWORD=my-secret-pw -p 3306:3306 mysql\n",
    "\n",
    "# Verify that the container is running\n",
    "docker ps -a"
   ]
  },
  {
   "cell_type": "markdown",
   "metadata": {},
   "source": [
    "---"
   ]
  },
  {
   "cell_type": "markdown",
   "metadata": {},
   "source": [
    "# Laravel Installation in Docker Container\n",
    "This section provides a comprehensive script detailing the steps required to install Laravel within a Docker container."
   ]
  },
  {
   "cell_type": "code",
   "execution_count": null,
   "metadata": {
    "vscode": {
     "languageId": "shellscript"
    }
   },
   "outputs": [],
   "source": [
    "#!/bin/bash\n",
    "\n",
    "# Access the backend container\n",
    "docker exec -it vistaqs_backend bash\n",
    "\n",
    "# Once inside the container, install Composer, a dependency manager for PHP\n",
    "curl -sS https://getcomposer.org/installer | php -- --install-dir=/usr/local/bin --filename=composer\n",
    "\n",
    "# Navigate to the project's directory\n",
    "cd /vistaqs/main\n",
    "\n",
    "# Install the dependencies\n",
    "composer install\n",
    "\n",
    "# Change the ownership of the project to the www-data user\n",
    "chown -R www-data:www-data /var/www\n",
    "\n",
    "# Exit the container\n",
    "exit"
   ]
  },
  {
   "cell_type": "markdown",
   "metadata": {},
   "source": [
    "# Configuring Network Interface for Docker Containers\n",
    "Provide instructions on how to configure the network interface so that the Docker containers can interact with each other."
   ]
  },
  {
   "cell_type": "code",
   "execution_count": null,
   "metadata": {
    "vscode": {
     "languageId": "shellscript"
    }
   },
   "outputs": [],
   "source": [
    "#!/bin/bash\n",
    "\n",
    "# Create a new Docker network\n",
    "docker network create vistaqs_network\n",
    "\n",
    "# Connect the backend container to the network\n",
    "docker network connect vistaqs_network vistaqs_backend\n",
    "\n",
    "# Connect the frontend container to the network\n",
    "docker network connect vistaqs_network vistaqs_frontend\n",
    "\n",
    "# Connect the database container to the network\n",
    "docker network connect vistaqs_network vistaqs_database\n",
    "\n",
    "# Verify the network configuration\n",
    "docker network inspect laravel_network"
   ]
  },
  {
   "cell_type": "markdown",
   "metadata": {},
   "source": [
    "# Running the Docker Containers\n",
    "docker-compose.yml file:\n"
   ]
  },
  {
   "cell_type": "code",
   "execution_count": null,
   "metadata": {
    "vscode": {
     "languageId": "shellscript"
    }
   },
   "outputs": [],
   "source": [
    "version: '3'\n",
    "services:\n",
    "    backend:\n",
    "        image: laravelphp\n",
    "        container_name: vistaqs_backend\n",
    "        ports:\n",
    "            - 8000:80\n",
    "        volumes:\n",
    "            - ./:/var/www\n",
    "        depends_on:\n",
    "            - database\n",
    "        networks:\n",
    "            - vistaQs_network\n",
    "\n",
    "    frontend:\n",
    "        image: nginx\n",
    "        container_name: vistaqs_frontend\n",
    "        ports:\n",
    "            - 8080:80\n",
    "        volumes:\n",
    "            - ./nginx/default.conf:/etc/nginx/conf.d/default.conf\n",
    "            - ./:/var/www\n",
    "        depends_on:\n",
    "            - backend\n",
    "        networks:\n",
    "            - vistaQs_network\n",
    "\n",
    "    database:\n",
    "        image: mysql\n",
    "        container_name: vistaqs_database\n",
    "        volumes:\n",
    "            - db_data:/var/lib/mysql\n",
    "        environment:\n",
    "            MYSQL_ROOT_PASSWORD: ${DB_PASSWORD}\n",
    "            MYSQL_DATABASE: ${DB_DATABASE}\n",
    "            MYSQL_USER: ${DB_USERNAME}\n",
    "            MYSQL_PASSWORD: ${DB_PASSWORD}\n",
    "        networks:\n",
    "            - vistaqs_network\n",
    "\n",
    "networks:\n",
    "    vistaQs_network:\n",
    "        driver: bridge\n",
    "\n",
    "volumes:\n",
    "    db_data:"
   ]
  },
  {
   "cell_type": "code",
   "execution_count": null,
   "metadata": {
    "vscode": {
     "languageId": "shellscript"
    }
   },
   "outputs": [],
   "source": [
    "# To start all the services defined in the `docker-compose.yml` file\n",
    "docker-compose up\n",
    "\n",
    "# To start all the services in the background (detached mode)\n",
    "docker-compose up -d\n",
    "\n",
    "# To stop the services\n",
    "docker-compose down\n",
    "\n",
    "# To view the status of the services\n",
    "docker-compose ps\n",
    "\n",
    "# To view the logs of the services\n",
    "docker-compose logs"
   ]
  }
 ],
 "metadata": {
  "kernelspec": {
   "display_name": "Python 3",
   "language": "python",
   "name": "python3"
  },
  "language_info": {
   "name": "python",
   "version": "3.11.8"
  },
  "orig_nbformat": 4
 },
 "nbformat": 4,
 "nbformat_minor": 2
}
